{
 "cells": [
  {
   "cell_type": "markdown",
   "metadata": {},
   "source": [
    "# Project 4 K-Nearest Neighbors On Two Data Sets"
   ]
  },
  {
   "cell_type": "markdown",
   "metadata": {},
   "source": [
    "## Part 1: Cleveland Data Set"
   ]
  },
  {
   "cell_type": "code",
   "execution_count": 35,
   "metadata": {},
   "outputs": [],
   "source": [
    "#Common imports for use in the data visualization\n",
    "import math\n",
    "import matplotlib.pyplot as plt\n",
    "import seaborn as sns\n",
    "import numpy as np\n",
    "import pandas as pd\n",
    "import csv\n",
    "import scipy.stats as stats\n",
    "from sklearn.model_selection import train_test_split\n",
    "from sklearn.preprocessing import StandardScaler\n",
    "from sklearn.metrics import accuracy_score,  precision_score, recall_score, f1_score\n",
    "\n",
    "\n",
    "from sklearn.neighbors import NearestNeighbors\n",
    "from sklearn.metrics import precision_recall_fscore_support"
   ]
  },
  {
   "cell_type": "code",
   "execution_count": 36,
   "metadata": {},
   "outputs": [
    {
     "name": "stdout",
     "output_type": "stream",
     "text": [
      "K value: 1\n",
      "Selected attributes: ['age', 'sex', 'cp', 'trestbps', 'chol', 'fbs', 'restecg', 'thalach', 'exang', 'oldpeak', 'slope', 'ca', 'thal']\n",
      "Precision: 0.84\n",
      "Recall: 0.875\n",
      "F1 score: 0.8571428571428571\n"
     ]
    }
   ],
   "source": [
    "clevelandDf = pd.read_csv('datasets/cleveland.csv')# SO when we are in class testing our code, put the new file here and itll spit us back a F1\n",
    "\n",
    "clevelandDf.replace('?', np.nan, inplace=True)\n",
    "\n",
    "clevelandDf['num'] = (clevelandDf['num'] > 0).astype(int)\n",
    "\n",
    "clevelandDf.dropna(inplace=True)\n",
    "\n",
    "selected_features = ['age', 'sex', 'cp', 'trestbps', 'chol', 'fbs', 'restecg', 'thalach', 'exang', 'oldpeak', 'slope', 'ca', 'thal']\n",
    "X = clevelandDf[selected_features]\n",
    "y = clevelandDf['num']\n",
    "\n",
    "scaler = StandardScaler()\n",
    "X_scaled = scaler.fit_transform(X)\n",
    "\n",
    "X_train, X_test, y_train, y_test = train_test_split(X_scaled, y, test_size=0.2, random_state=42)\n",
    "\n",
    "best_k = 1  # test others\n",
    "nn = NearestNeighbors(n_neighbors=best_k, metric='euclidean', algorithm='auto')\n",
    "nn.fit(X_train)\n",
    "\n",
    "distances, indices = nn.kneighbors(X_test)\n",
    "predictions = [np.any(y_train.iloc[indices[i]] > 0) for i in range(len(X_test))]  # Considering any non-zero prediction as heart disease\n",
    "\n",
    "precision = precision_score(y_test, predictions)\n",
    "recall = recall_score(y_test, predictions)\n",
    "f1 = f1_score(y_test, predictions)\n",
    "\n",
    "print(\"K value:\", best_k)\n",
    "print(\"Selected attributes:\", selected_features)\n",
    "print(\"Precision:\", precision)\n",
    "print(\"Recall:\", recall)\n",
    "print(\"F1 score:\", f1)"
   ]
  },
  {
   "cell_type": "markdown",
   "metadata": {},
   "source": [
    "- As I messed around with different K values, I relaized that as I went up, we got worse. This is because of overfitting. As we made the model more complex than it needs to be, we started getting more and more incorrect. But as our K decreased, our scores went up, leading us to go with a lower K."
   ]
  },
  {
   "cell_type": "code",
   "execution_count": 37,
   "metadata": {},
   "outputs": [
    {
     "name": "stdout",
     "output_type": "stream",
     "text": [
      "Predictions for new dataset:\n",
      "[False, True, False, False, False, False, True, True, False, False, True, True, True, True, True, False, False, False, True, False, True, False, False, True, False, False, True, False, False, True, False, True, True, False, True, False, True, True, False]\n"
     ]
    }
   ],
   "source": [
    "new_data = pd.read_csv('datasets/cleveland-test-sample.csv')\n",
    "\n",
    "new_data.replace('?', np.nan, inplace=True)\n",
    "new_data.dropna(inplace=True)\n",
    "X_new = new_data[selected_features]\n",
    "\n",
    "X_new_scaled = scaler.transform(X_new)\n",
    "\n",
    "nn = NearestNeighbors(n_neighbors=best_k, metric='euclidean', algorithm='auto')\n",
    "nn.fit(X_scaled)\n",
    "distances, indices = nn.kneighbors(X_new_scaled)\n",
    "predictions = [np.any(y.iloc[indices[i]] > 0) for i in range(len(X_new_scaled))]  # Consider any non-zero prediction as heart disease\n",
    "\n",
    "print(\"Predictions for new dataset:\")\n",
    "print(predictions)\n"
   ]
  },
  {
   "cell_type": "markdown",
   "metadata": {},
   "source": [
    "## Function to prove that 1 is the best k value. Checking from 1-200..."
   ]
  },
  {
   "cell_type": "code",
   "execution_count": 38,
   "metadata": {},
   "outputs": [
    {
     "name": "stdout",
     "output_type": "stream",
     "text": [
      "[0.8571428571428571, 0.8421052631578947, 0.7868852459016393, 0.75, 0.7164179104477612, 0.7058823529411765, 0.676056338028169, 0.6575342465753424, 0.6486486486486487, 0.631578947368421, 0.6153846153846154, 0.6153846153846154, 0.6153846153846154, 0.6153846153846154, 0.6153846153846154, 0.6153846153846154, 0.6075949367088608, 0.6075949367088608, 0.6075949367088608, 0.6, 0.5925925925925926, 0.5853658536585366, 0.5853658536585366, 0.5783132530120482, 0.5783132530120482, 0.5714285714285714, 0.5714285714285714, 0.5714285714285714, 0.5714285714285714, 0.5714285714285714, 0.5714285714285714, 0.5714285714285714, 0.5714285714285714, 0.5714285714285714, 0.5714285714285714, 0.5714285714285714, 0.5714285714285714, 0.5714285714285714, 0.5714285714285714, 0.5714285714285714, 0.5714285714285714, 0.5714285714285714, 0.5714285714285714, 0.5714285714285714, 0.5714285714285714, 0.5714285714285714, 0.5714285714285714, 0.5714285714285714, 0.5714285714285714, 0.5714285714285714, 0.5714285714285714, 0.5714285714285714, 0.5714285714285714, 0.5714285714285714, 0.5714285714285714, 0.5714285714285714, 0.5714285714285714, 0.5714285714285714, 0.5714285714285714, 0.5714285714285714, 0.5714285714285714, 0.5714285714285714, 0.5714285714285714, 0.5714285714285714, 0.5714285714285714, 0.5714285714285714, 0.5714285714285714, 0.5714285714285714, 0.5714285714285714, 0.5714285714285714, 0.5714285714285714, 0.5714285714285714, 0.5714285714285714, 0.5714285714285714, 0.5714285714285714, 0.5714285714285714, 0.5714285714285714, 0.5714285714285714, 0.5714285714285714, 0.5714285714285714, 0.5714285714285714, 0.5714285714285714, 0.5714285714285714, 0.5714285714285714, 0.5714285714285714, 0.5714285714285714, 0.5714285714285714, 0.5714285714285714, 0.5714285714285714, 0.5714285714285714, 0.5714285714285714, 0.5714285714285714, 0.5714285714285714, 0.5714285714285714, 0.5714285714285714, 0.5714285714285714, 0.5714285714285714, 0.5714285714285714, 0.5714285714285714]\n",
      "Best score: 0.8571428571428571\n"
     ]
    },
    {
     "data": {
      "image/png": "[encoded data removed]",
      "text/plain": [
       "<Figure size 640x480 with 1 Axes>"
      ]
     },
     "metadata": {},
     "output_type": "display_data"
    }
   ],
   "source": [
    "def getF1(k):\n",
    "    nn = NearestNeighbors(n_neighbors=k, metric='euclidean', algorithm='auto')\n",
    "    nn.fit(X_train)\n",
    "\n",
    "    distances, indices = nn.kneighbors(X_test)\n",
    "    predictions = [np.any(y_train.iloc[indices[i]] > 0) for i in range(len(X_test))]  # Considering any non-zero prediction as heart disease\n",
    "\n",
    "    f1 = f1_score(y_test, predictions)\n",
    "    return f1\n",
    "\n",
    "kvals = range(1, 100)\n",
    "scores = [getF1(k) for k in kvals]\n",
    "print(scores)\n",
    "plt.plot(kvals, scores)\n",
    "plt.xlabel = 'K'\n",
    "plt.ylabel = 'F1 Score'\n",
    "best_score = max(scores)\n",
    "print(\"Best score:\", best_score)"
   ]
  },
  {
   "cell_type": "markdown",
   "metadata": {},
   "source": [
    "From this we see that there is a stark difference in performance as we get a higher k value. This is interesting for a few reasons\n",
    "- With such a small K value, we get scared that we are being overfitted with the small dataset, however since we set a test data set, and we made sure to keep them seperate, that likely isn't the case\n",
    "- This might be because it will have bad performance on new data, for example from another hospital."
   ]
  },
  {
   "cell_type": "markdown",
   "metadata": {},
   "source": [
    "## Part 2: Student Dropout Data Set"
   ]
  },
  {
   "cell_type": "markdown",
   "metadata": {},
   "source": [
    "## [Student Dropout Dataset (\"data.csv\") here](https://archive.ics.uci.edu/dataset/697/predict+students+dropout+and+academic+success)"
   ]
  },
  {
   "cell_type": "code",
   "execution_count": 39,
   "metadata": {},
   "outputs": [
    {
     "data": {
      "text/html": [
       "<div>\n",
       "<style scoped>\n",
       "    .dataframe tbody tr th:only-of-type {\n",
       "        vertical-align: middle;\n",
       "    }\n",
       "\n",
       "    .dataframe tbody tr th {\n",
       "        vertical-align: top;\n",
       "    }\n",
       "\n",
       "    .dataframe thead th {\n",
       "        text-align: right;\n",
       "    }\n",
       "</style>\n",
       "<table border=\"1\" class=\"dataframe\">\n",
       "  <thead>\n",
       "    <tr style=\"text-align: right;\">\n",
       "      <th></th>\n",
       "      <th>Age at enrollment</th>\n",
       "      <th>Tuition fees up to date</th>\n",
       "      <th>Previous qualification (grade)</th>\n",
       "      <th>Scholarship holder</th>\n",
       "      <th>Target</th>\n",
       "      <th>Age standardized</th>\n",
       "      <th>Tuition standardized</th>\n",
       "      <th>Grades standardized</th>\n",
       "      <th>Scholarship standardized</th>\n",
       "    </tr>\n",
       "  </thead>\n",
       "  <tbody>\n",
       "    <tr>\n",
       "      <th>1802</th>\n",
       "      <td>18</td>\n",
       "      <td>1</td>\n",
       "      <td>131.0</td>\n",
       "      <td>1</td>\n",
       "      <td>Graduate</td>\n",
       "      <td>-0.693895</td>\n",
       "      <td>0.368094</td>\n",
       "      <td>-0.122329</td>\n",
       "      <td>1.739193</td>\n",
       "    </tr>\n",
       "  </tbody>\n",
       "</table>\n",
       "</div>"
      ],
      "text/plain": [
       "      Age at enrollment  Tuition fees up to date  \\\n",
       "1802                 18                        1   \n",
       "\n",
       "      Previous qualification (grade)  Scholarship holder    Target  \\\n",
       "1802                           131.0                   1  Graduate   \n",
       "\n",
       "      Age standardized  Tuition standardized  Grades standardized  \\\n",
       "1802         -0.693895              0.368094            -0.122329   \n",
       "\n",
       "      Scholarship standardized  \n",
       "1802                  1.739193  "
      ]
     },
     "metadata": {},
     "output_type": "display_data"
    },
    {
     "data": {
      "text/html": [
       "<div>\n",
       "<style scoped>\n",
       "    .dataframe tbody tr th:only-of-type {\n",
       "        vertical-align: middle;\n",
       "    }\n",
       "\n",
       "    .dataframe tbody tr th {\n",
       "        vertical-align: top;\n",
       "    }\n",
       "\n",
       "    .dataframe thead th {\n",
       "        text-align: right;\n",
       "    }\n",
       "</style>\n",
       "<table border=\"1\" class=\"dataframe\">\n",
       "  <thead>\n",
       "    <tr style=\"text-align: right;\">\n",
       "      <th></th>\n",
       "      <th>Age at enrollment</th>\n",
       "      <th>Tuition fees up to date</th>\n",
       "      <th>Previous qualification (grade)</th>\n",
       "      <th>Scholarship holder</th>\n",
       "      <th>Target</th>\n",
       "      <th>Age standardized</th>\n",
       "      <th>Tuition standardized</th>\n",
       "      <th>Grades standardized</th>\n",
       "      <th>Scholarship standardized</th>\n",
       "    </tr>\n",
       "  </thead>\n",
       "  <tbody>\n",
       "    <tr>\n",
       "      <th>2892</th>\n",
       "      <td>18</td>\n",
       "      <td>1</td>\n",
       "      <td>131.0</td>\n",
       "      <td>1</td>\n",
       "      <td>Graduate</td>\n",
       "      <td>-0.693895</td>\n",
       "      <td>0.368094</td>\n",
       "      <td>-0.122329</td>\n",
       "      <td>1.739193</td>\n",
       "    </tr>\n",
       "    <tr>\n",
       "      <th>4134</th>\n",
       "      <td>18</td>\n",
       "      <td>1</td>\n",
       "      <td>142.0</td>\n",
       "      <td>1</td>\n",
       "      <td>Graduate</td>\n",
       "      <td>-0.693895</td>\n",
       "      <td>0.368094</td>\n",
       "      <td>0.711742</td>\n",
       "      <td>1.739193</td>\n",
       "    </tr>\n",
       "    <tr>\n",
       "      <th>3283</th>\n",
       "      <td>18</td>\n",
       "      <td>1</td>\n",
       "      <td>131.0</td>\n",
       "      <td>1</td>\n",
       "      <td>Graduate</td>\n",
       "      <td>-0.693895</td>\n",
       "      <td>0.368094</td>\n",
       "      <td>-0.122329</td>\n",
       "      <td>1.739193</td>\n",
       "    </tr>\n",
       "    <tr>\n",
       "      <th>2641</th>\n",
       "      <td>20</td>\n",
       "      <td>1</td>\n",
       "      <td>125.0</td>\n",
       "      <td>1</td>\n",
       "      <td>Graduate</td>\n",
       "      <td>-0.430314</td>\n",
       "      <td>0.368094</td>\n",
       "      <td>-0.577276</td>\n",
       "      <td>1.739193</td>\n",
       "    </tr>\n",
       "    <tr>\n",
       "      <th>3248</th>\n",
       "      <td>18</td>\n",
       "      <td>1</td>\n",
       "      <td>131.0</td>\n",
       "      <td>1</td>\n",
       "      <td>Graduate</td>\n",
       "      <td>-0.693895</td>\n",
       "      <td>0.368094</td>\n",
       "      <td>-0.122329</td>\n",
       "      <td>1.739193</td>\n",
       "    </tr>\n",
       "    <tr>\n",
       "      <th>3372</th>\n",
       "      <td>18</td>\n",
       "      <td>1</td>\n",
       "      <td>131.0</td>\n",
       "      <td>1</td>\n",
       "      <td>Graduate</td>\n",
       "      <td>-0.693895</td>\n",
       "      <td>0.368094</td>\n",
       "      <td>-0.122329</td>\n",
       "      <td>1.739193</td>\n",
       "    </tr>\n",
       "    <tr>\n",
       "      <th>1330</th>\n",
       "      <td>18</td>\n",
       "      <td>1</td>\n",
       "      <td>131.0</td>\n",
       "      <td>1</td>\n",
       "      <td>Graduate</td>\n",
       "      <td>-0.693895</td>\n",
       "      <td>0.368094</td>\n",
       "      <td>-0.122329</td>\n",
       "      <td>1.739193</td>\n",
       "    </tr>\n",
       "    <tr>\n",
       "      <th>3353</th>\n",
       "      <td>18</td>\n",
       "      <td>1</td>\n",
       "      <td>131.0</td>\n",
       "      <td>1</td>\n",
       "      <td>Graduate</td>\n",
       "      <td>-0.693895</td>\n",
       "      <td>0.368094</td>\n",
       "      <td>-0.122329</td>\n",
       "      <td>1.739193</td>\n",
       "    </tr>\n",
       "    <tr>\n",
       "      <th>3769</th>\n",
       "      <td>18</td>\n",
       "      <td>1</td>\n",
       "      <td>131.0</td>\n",
       "      <td>1</td>\n",
       "      <td>Dropout</td>\n",
       "      <td>-0.693895</td>\n",
       "      <td>0.368094</td>\n",
       "      <td>-0.122329</td>\n",
       "      <td>1.739193</td>\n",
       "    </tr>\n",
       "  </tbody>\n",
       "</table>\n",
       "</div>"
      ],
      "text/plain": [
       "      Age at enrollment  Tuition fees up to date  \\\n",
       "2892                 18                        1   \n",
       "4134                 18                        1   \n",
       "3283                 18                        1   \n",
       "2641                 20                        1   \n",
       "3248                 18                        1   \n",
       "3372                 18                        1   \n",
       "1330                 18                        1   \n",
       "3353                 18                        1   \n",
       "3769                 18                        1   \n",
       "\n",
       "      Previous qualification (grade)  Scholarship holder    Target  \\\n",
       "2892                           131.0                   1  Graduate   \n",
       "4134                           142.0                   1  Graduate   \n",
       "3283                           131.0                   1  Graduate   \n",
       "2641                           125.0                   1  Graduate   \n",
       "3248                           131.0                   1  Graduate   \n",
       "3372                           131.0                   1  Graduate   \n",
       "1330                           131.0                   1  Graduate   \n",
       "3353                           131.0                   1  Graduate   \n",
       "3769                           131.0                   1   Dropout   \n",
       "\n",
       "      Age standardized  Tuition standardized  Grades standardized  \\\n",
       "2892         -0.693895              0.368094            -0.122329   \n",
       "4134         -0.693895              0.368094             0.711742   \n",
       "3283         -0.693895              0.368094            -0.122329   \n",
       "2641         -0.430314              0.368094            -0.577276   \n",
       "3248         -0.693895              0.368094            -0.122329   \n",
       "3372         -0.693895              0.368094            -0.122329   \n",
       "1330         -0.693895              0.368094            -0.122329   \n",
       "3353         -0.693895              0.368094            -0.122329   \n",
       "3769         -0.693895              0.368094            -0.122329   \n",
       "\n",
       "      Scholarship standardized  \n",
       "2892                  1.739193  \n",
       "4134                  1.739193  \n",
       "3283                  1.739193  \n",
       "2641                  1.739193  \n",
       "3248                  1.739193  \n",
       "3372                  1.739193  \n",
       "1330                  1.739193  \n",
       "3353                  1.739193  \n",
       "3769                  1.739193  "
      ]
     },
     "metadata": {},
     "output_type": "display_data"
    },
    {
     "name": "stdout",
     "output_type": "stream",
     "text": [
      "We predict this student is: isn't a dropout\n"
     ]
    }
   ],
   "source": [
    "school_df = pd.read_csv('datasets/data.csv', sep=';')\n",
    "interested_columns = [\"Age at enrollment\", \"Tuition fees up to date\", \"Previous qualification (grade)\", \"Scholarship holder\", \"Target\"]\n",
    "school_interested = school_df[interested_columns].copy()\n",
    "\n",
    "dropout_count = school_interested['Target'].value_counts().get('Dropout')\n",
    "not_dropout_count = (school_interested['Target'] != 'dropout').sum()\n",
    "\n",
    "school_interested['Age standardized'] = (school_interested['Age at enrollment'] - school_interested['Age at enrollment'].mean()) / (school_interested['Age at enrollment'].std())\n",
    "school_interested['Tuition standardized'] = (school_interested['Tuition fees up to date'] - school_interested['Tuition fees up to date'].mean()) / (school_interested['Tuition fees up to date'].std())\n",
    "school_interested['Grades standardized'] = (school_interested['Previous qualification (grade)'] - school_interested['Previous qualification (grade)'].mean()) / (school_interested['Previous qualification (grade)'].std())\n",
    "school_interested['Scholarship standardized'] = (school_interested['Scholarship holder'] - school_interested['Scholarship holder'].mean()) / (school_interested['Scholarship holder'].std())\n",
    "\n",
    "school_interested = school_interested.sort_values(by='Scholarship holder', ascending=False)\n",
    "\n",
    "# Choosing 9 neighbors as the optimal k. Different values of k tested in the plot below\n",
    "nn = NearestNeighbors(n_neighbors=9, metric='euclidean', algorithm='auto')\n",
    "\n",
    "# Standarize each metric to reduce bias\n",
    "age = 'Age standardized'\n",
    "grade = 'Grades standardized'\n",
    "tuition = 'Tuition standardized'\n",
    "scholarship = 'Scholarship standardized'\n",
    "\n",
    "student = school_interested.sample(1)\n",
    "studentX = student[[age, grade, tuition, scholarship]].values[0]\t\t# moved this block above\n",
    "display(student)\n",
    "\n",
    "# Getting rid of the student of interest as a potential neighbor\n",
    "X = school_interested.drop(student.index)[[age, grade, tuition, scholarship]].values\n",
    "\n",
    "fit = nn.fit(X)\n",
    "distances, indices = fit.kneighbors([studentX])\n",
    "distances, indices\n",
    "\n",
    "nbrs = school_interested.iloc[indices[0]]\n",
    "display(nbrs)\n",
    "\n",
    "in_school = nbrs[(nbrs['Target'] == \"Enrolled\") | (nbrs['Target'] == \"Graduate\")].count()\n",
    "dropout = nbrs[nbrs['Target'] == \"Dropout\"].count()\n",
    "#print('in school: {}\\ndropout: {}'.format(in_school, dropout))\n",
    "\n",
    "prediction = \"isn't a dropout\" if in_school['Target'] > dropout['Target'] else \"is a dropout\"\n",
    "print(\"We predict this student is: \" + prediction)\n"
   ]
  },
  {
   "cell_type": "code",
   "execution_count": 40,
   "metadata": {},
   "outputs": [
    {
     "name": "stdout",
     "output_type": "stream",
     "text": [
      "precision=[0.625 0.4  ], recall=[0.80645161 0.21052632], f-score=[0.70422535 0.27586207], support=[31 19]\n"
     ]
    }
   ],
   "source": [
    "# Repeating experiment from above, but running multiple tests\n",
    "n = 50\n",
    "students = school_interested.sample(n)\n",
    "studentsX = students[[age, grade, tuition, scholarship]].values\n",
    "studentsY = students[['Target']].values\n",
    "\n",
    "studentsY = students[['Target']].values.flatten()\n",
    "studentsY = np.where(studentsY == 'Enrolled', 0, studentsY)\n",
    "studentsY = np.where(studentsY == 'Graduate', 0, studentsY)\n",
    "studentsY = np.where(studentsY == 'Dropout', 1, studentsY)\n",
    "studentsY = studentsY.reshape(-1, 1).astype(np.int64)\n",
    "\n",
    "distances, indices = fit.kneighbors(studentsX)\n",
    "\n",
    "y_pred = []\n",
    "for i in range(n):\n",
    "    nbrs = school_interested.iloc[indices[i]]\n",
    "    in_school = nbrs[(nbrs['Target'] == \"Enrolled\") | (nbrs['Target'] == \"Graduate\")].count()\n",
    "    dropout = nbrs[nbrs['Target'] == \"Dropout\"].count()\n",
    "    predict = 0 if (in_school['Target'] > dropout['Target']) else 1\n",
    "    y_pred.append(predict)\n",
    "\n",
    "# F-score tends to be around 0.75\n",
    "(p,r,f,s) = precision_recall_fscore_support(studentsY, y_pred, labels=[0,1])\n",
    "print(f'precision={p}, recall={r}, f-score={f}, support={s}')"
   ]
  },
  {
   "cell_type": "code",
   "execution_count": 41,
   "metadata": {},
   "outputs": [
    {
     "name": "stdout",
     "output_type": "stream",
     "text": [
      "[(array([0.63414634, 0.33333333]), array([0.8125    , 0.16666667]), array([0.71232877, 0.22222222]), array([32, 18])), (array([0.68292683, 0.55555556]), array([0.875     , 0.27777778]), array([0.76712329, 0.37037037]), array([32, 18])), (array([0.65909091, 0.66666667]), array([0.93548387, 0.21052632]), array([0.77333333, 0.32      ]), array([31, 19])), (array([0.83783784, 0.61538462]), array([0.86111111, 0.57142857]), array([0.84931507, 0.59259259]), array([36, 14])), (array([0.79487179, 0.36363636]), array([0.81578947, 0.33333333]), array([0.80519481, 0.34782609]), array([38, 12])), (array([0.675, 0.6  ]), array([0.87096774, 0.31578947]), array([0.76056338, 0.4137931 ]), array([31, 19])), (array([0.75      , 0.33333333]), array([0.89189189, 0.15384615]), array([0.81481481, 0.21052632]), array([37, 13])), (array([0.75609756, 0.22222222]), array([0.81578947, 0.16666667]), array([0.78481013, 0.19047619]), array([38, 12])), (array([0.725, 0.5  ]), array([0.85294118, 0.3125    ]), array([0.78378378, 0.38461538]), array([34, 16])), (array([0.81395349, 1.        ]), array([1.        , 0.46666667]), array([0.8974359 , 0.63636364]), array([35, 15])), (array([0.7804878 , 0.44444444]), array([0.86486486, 0.30769231]), array([0.82051282, 0.36363636]), array([37, 13])), (array([0.66666667, 0.375     ]), array([0.84848485, 0.17647059]), array([0.74666667, 0.24      ]), array([33, 17])), (array([0.73809524, 0.75      ]), array([0.93939394, 0.35294118]), array([0.82666667, 0.48      ]), array([33, 17])), (array([0.51351351, 0.46153846]), array([0.73076923, 0.25      ]), array([0.6031746 , 0.32432432]), array([26, 24])), (array([0.6744186 , 0.14285714]), array([0.82857143, 0.06666667]), array([0.74358974, 0.09090909]), array([35, 15])), (array([0.78571429, 0.625     ]), array([0.91666667, 0.35714286]), array([0.84615385, 0.45454545]), array([36, 14])), (array([0.65853659, 0.55555556]), array([0.87096774, 0.26315789]), array([0.75      , 0.35714286]), array([31, 19])), (array([0.70731707, 0.55555556]), array([0.87878788, 0.29411765]), array([0.78378378, 0.38461538]), array([33, 17])), (array([0.67567568, 0.38461538]), array([0.75757576, 0.29411765]), array([0.71428571, 0.33333333]), array([33, 17])), (array([0.73170732, 0.22222222]), array([0.81081081, 0.15384615]), array([0.76923077, 0.18181818]), array([37, 13])), (array([0.675, 0.5  ]), array([0.84375   , 0.27777778]), array([0.75      , 0.35714286]), array([32, 18])), (array([0.725, 0.2  ]), array([0.78378378, 0.15384615]), array([0.75324675, 0.17391304]), array([37, 13])), (array([0.71111111, 0.2       ]), array([0.88888889, 0.07142857]), array([0.79012346, 0.10526316]), array([36, 14])), (array([0.72222222, 0.35714286]), array([0.74285714, 0.33333333]), array([0.73239437, 0.34482759]), array([35, 15])), (array([0.66666667, 0.5       ]), array([0.875     , 0.22222222]), array([0.75675676, 0.30769231]), array([32, 18])), (array([0.61904762, 0.5       ]), array([0.86666667, 0.2       ]), array([0.72222222, 0.28571429]), array([30, 20])), (array([0.76923077, 0.63636364]), array([0.88235294, 0.4375    ]), array([0.82191781, 0.51851852]), array([34, 16])), (array([0.81578947, 0.58333333]), array([0.86111111, 0.5       ]), array([0.83783784, 0.53846154]), array([36, 14])), (array([0.69230769, 0.45454545]), array([0.81818182, 0.29411765]), array([0.75      , 0.35714286]), array([33, 17])), (array([0.65957447, 0.33333333]), array([0.93939394, 0.05882353]), array([0.775, 0.1  ]), array([33, 17])), (array([0.65853659, 0.44444444]), array([0.84375   , 0.22222222]), array([0.73972603, 0.2962963 ]), array([32, 18])), (array([0.70731707, 0.33333333]), array([0.82857143, 0.2       ]), array([0.76315789, 0.25      ]), array([35, 15])), (array([0.7, 0.4]), array([0.82352941, 0.25      ]), array([0.75675676, 0.30769231]), array([34, 16])), (array([0.66666667, 0.27272727]), array([0.76470588, 0.1875    ]), array([0.71232877, 0.22222222]), array([34, 16])), (array([0.73170732, 0.33333333]), array([0.83333333, 0.21428571]), array([0.77922078, 0.26086957]), array([36, 14])), (array([0.73529412, 0.5625    ]), array([0.78125, 0.5    ]), array([0.75757576, 0.52941176]), array([32, 18])), (array([0.71052632, 0.25      ]), array([0.75      , 0.21428571]), array([0.72972973, 0.23076923]), array([36, 14])), (array([0.81081081, 0.38461538]), array([0.78947368, 0.41666667]), array([0.8, 0.4]), array([38, 12])), (array([0.65789474, 0.75      ]), array([0.89285714, 0.40909091]), array([0.75757576, 0.52941176]), array([28, 22])), (array([0.78947368, 0.58333333]), array([0.85714286, 0.46666667]), array([0.82191781, 0.51851852]), array([35, 15])), (array([0.70454545, 0.83333333]), array([0.96875   , 0.27777778]), array([0.81578947, 0.41666667]), array([32, 18])), (array([0.66666667, 0.4       ]), array([0.90909091, 0.11764706]), array([0.76923077, 0.18181818]), array([33, 17])), (array([0.70731707, 0.44444444]), array([0.85294118, 0.25      ]), array([0.77333333, 0.32      ]), array([34, 16])), (array([0.61538462, 0.45454545]), array([0.8 , 0.25]), array([0.69565217, 0.32258065]), array([30, 20])), (array([0.73684211, 0.5       ]), array([0.82352941, 0.375     ]), array([0.77777778, 0.42857143]), array([34, 16])), (array([0.69230769, 0.27272727]), array([0.77142857, 0.2       ]), array([0.72972973, 0.23076923]), array([35, 15])), (array([0.6, 0.2]), array([0.75      , 0.11111111]), array([0.66666667, 0.14285714]), array([32, 18])), (array([0.79069767, 0.85714286]), array([0.97142857, 0.4       ]), array([0.87179487, 0.54545455]), array([35, 15])), (array([0.74418605, 0.85714286]), array([0.96969697, 0.35294118]), array([0.84210526, 0.5       ]), array([33, 17])), (array([0.725, 0.6  ]), array([0.87878788, 0.35294118]), array([0.79452055, 0.44444444]), array([33, 17])), (array([0.65217391, 1.        ]), array([1. , 0.2]), array([0.78947368, 0.33333333]), array([30, 20])), (array([0.79487179, 0.54545455]), array([0.86111111, 0.42857143]), array([0.82666667, 0.48      ]), array([36, 14])), (array([0.71428571, 0.5       ]), array([0.88235294, 0.25      ]), array([0.78947368, 0.33333333]), array([34, 16])), (array([0.73809524, 0.5       ]), array([0.88571429, 0.26666667]), array([0.80519481, 0.34782609]), array([35, 15])), (array([0.68292683, 0.55555556]), array([0.875     , 0.27777778]), array([0.76712329, 0.37037037]), array([32, 18])), (array([0.74358974, 0.45454545]), array([0.82857143, 0.33333333]), array([0.78378378, 0.38461538]), array([35, 15])), (array([0.68292683, 0.22222222]), array([0.8       , 0.13333333]), array([0.73684211, 0.16666667]), array([35, 15])), (array([0.7173913, 0.5      ]), array([0.94285714, 0.13333333]), array([0.81481481, 0.21052632]), array([35, 15])), (array([0.56818182, 0.5       ]), array([0.89285714, 0.13636364]), array([0.69444444, 0.21428571]), array([28, 22])), (array([0.58536585, 0.77777778]), array([0.92307692, 0.29166667]), array([0.71641791, 0.42424242]), array([26, 24])), (array([0.62790698, 0.57142857]), array([0.9, 0.2]), array([0.73972603, 0.2962963 ]), array([30, 20])), (array([0.67567568, 0.61538462]), array([0.83333333, 0.4       ]), array([0.74626866, 0.48484848]), array([30, 20])), (array([0.75675676, 0.53846154]), array([0.82352941, 0.4375    ]), array([0.78873239, 0.48275862]), array([34, 16])), (array([0.63157895, 0.58333333]), array([0.82758621, 0.33333333]), array([0.71641791, 0.42424242]), array([29, 21])), (array([0.65116279, 0.57142857]), array([0.90322581, 0.21052632]), array([0.75675676, 0.30769231]), array([31, 19])), (array([0.70731707, 0.22222222]), array([0.80555556, 0.14285714]), array([0.75324675, 0.17391304]), array([36, 14])), (array([0.65, 0.3 ]), array([0.78787879, 0.17647059]), array([0.71232877, 0.22222222]), array([33, 17])), (array([0.75609756, 0.22222222]), array([0.81578947, 0.16666667]), array([0.78481013, 0.19047619]), array([38, 12])), (array([0.85, 0.5 ]), array([0.87179487, 0.45454545]), array([0.86075949, 0.47619048]), array([39, 11])), (array([0.8, 0.6]), array([0.88888889, 0.42857143]), array([0.84210526, 0.5       ]), array([36, 14])), (array([0.65714286, 0.53333333]), array([0.76666667, 0.4       ]), array([0.70769231, 0.45714286]), array([30, 20])), (array([0.84210526, 0.25      ]), array([0.7804878 , 0.33333333]), array([0.81012658, 0.28571429]), array([41,  9])), (array([0.57142857, 0.6       ]), array([0.76923077, 0.375     ]), array([0.6557377 , 0.46153846]), array([26, 24])), (array([0.7, 0.4]), array([0.82352941, 0.25      ]), array([0.75675676, 0.30769231]), array([34, 16])), (array([0.65853659, 0.44444444]), array([0.84375   , 0.22222222]), array([0.73972603, 0.2962963 ]), array([32, 18])), (array([0.74418605, 0.14285714]), array([0.84210526, 0.08333333]), array([0.79012346, 0.10526316]), array([38, 12])), (array([0.68292683, 0.33333333]), array([0.82352941, 0.1875    ]), array([0.74666667, 0.24      ]), array([34, 16])), (array([0.60526316, 0.66666667]), array([0.85185185, 0.34782609]), array([0.70769231, 0.45714286]), array([27, 23])), (array([0.71794872, 0.54545455]), array([0.84848485, 0.35294118]), array([0.77777778, 0.42857143]), array([33, 17])), (array([0.75609756, 0.44444444]), array([0.86111111, 0.28571429]), array([0.80519481, 0.34782609]), array([36, 14])), (array([0.81578947, 0.5       ]), array([0.83783784, 0.46153846]), array([0.82666667, 0.48      ]), array([37, 13])), (array([0.675, 0.3  ]), array([0.79411765, 0.1875    ]), array([0.72972973, 0.23076923]), array([34, 16])), (array([0.575, 0.3  ]), array([0.76666667, 0.15      ]), array([0.65714286, 0.2       ]), array([30, 20])), (array([0.74358974, 0.72727273]), array([0.90625   , 0.44444444]), array([0.81690141, 0.55172414]), array([32, 18])), (array([0.68181818, 0.5       ]), array([0.90909091, 0.17647059]), array([0.77922078, 0.26086957]), array([33, 17])), (array([0.77142857, 0.33333333]), array([0.72972973, 0.38461538]), array([0.75      , 0.35714286]), array([37, 13])), (array([0.69767442, 0.57142857]), array([0.90909091, 0.23529412]), array([0.78947368, 0.33333333]), array([33, 17])), (array([0.825, 0.6  ]), array([0.89189189, 0.46153846]), array([0.85714286, 0.52173913]), array([37, 13])), (array([0.68571429, 0.4       ]), array([0.72727273, 0.35294118]), array([0.70588235, 0.375     ]), array([33, 17])), (array([0.5952381, 0.625    ]), array([0.89285714, 0.22727273]), array([0.71428571, 0.33333333]), array([28, 22])), (array([0.675, 0.3  ]), array([0.79411765, 0.1875    ]), array([0.72972973, 0.23076923]), array([34, 16])), (array([0.61363636, 0.33333333]), array([0.87096774, 0.10526316]), array([0.72, 0.16]), array([31, 19])), (array([0.68181818, 0.33333333]), array([0.88235294, 0.125     ]), array([0.76923077, 0.18181818]), array([34, 16])), (array([0.75, 0.6 ]), array([0.88235294, 0.375     ]), array([0.81081081, 0.46153846]), array([34, 16])), (array([0.6744186 , 0.28571429]), array([0.85294118, 0.125     ]), array([0.75324675, 0.17391304]), array([34, 16])), (array([0.66666667, 0.5       ]), array([0.875     , 0.22222222]), array([0.75675676, 0.30769231]), array([32, 18])), (array([0.70731707, 0.44444444]), array([0.85294118, 0.25      ]), array([0.77333333, 0.32      ]), array([34, 16])), (array([0.69767442, 0.14285714]), array([0.83333333, 0.07142857]), array([0.75949367, 0.0952381 ]), array([36, 14]))]\n"
     ]
    },
    {
     "ename": "TypeError",
     "evalue": "'str' object is not callable",
     "output_type": "error",
     "traceback": [
      "\u001b[0;31m---------------------------------------------------------------------------\u001b[0m",
      "\u001b[0;31mTypeError\u001b[0m                                 Traceback (most recent call last)",
      "Cell \u001b[0;32mIn[41], line 36\u001b[0m\n\u001b[1;32m     33\u001b[0m scores \u001b[38;5;241m=\u001b[39m \u001b[38;5;28mlist\u001b[39m(\u001b[38;5;28mzip\u001b[39m(\u001b[38;5;241m*\u001b[39mscores))\n\u001b[1;32m     35\u001b[0m plt\u001b[38;5;241m.\u001b[39mplot(kvals, scores[\u001b[38;5;241m2\u001b[39m])\n\u001b[0;32m---> 36\u001b[0m \u001b[43mplt\u001b[49m\u001b[38;5;241;43m.\u001b[39;49m\u001b[43mxlabel\u001b[49m\u001b[43m(\u001b[49m\u001b[38;5;124;43m'\u001b[39;49m\u001b[38;5;124;43mk\u001b[39;49m\u001b[38;5;124;43m'\u001b[39;49m\u001b[43m)\u001b[49m\n\u001b[1;32m     37\u001b[0m plt\u001b[38;5;241m.\u001b[39mylabel(\u001b[38;5;124m'\u001b[39m\u001b[38;5;124mf score\u001b[39m\u001b[38;5;124m'\u001b[39m)\n",
      "\u001b[0;31mTypeError\u001b[0m: 'str' object is not callable"
     ]
    },
    {
     "data": {
      "image/png": "[encoded data removed]",
      "text/plain": [
       "<Figure size 640x480 with 1 Axes>"
      ]
     },
     "metadata": {},
     "output_type": "display_data"
    }
   ],
   "source": [
    "# Testing different values of k\n",
    "def get_scores(k):\n",
    "    nn = NearestNeighbors(n_neighbors=k, metric='euclidean', algorithm='auto')\n",
    "\n",
    "    n = 50\n",
    "    students = school_interested.sample(n)\n",
    "    studentsX = students[[age, grade, tuition, scholarship]].values\n",
    "    studentsY = students[['Target']].values\n",
    "\n",
    "    studentsY = students[['Target']].values.flatten()\n",
    "    studentsY = np.where(studentsY == 'Enrolled', 0, studentsY)\n",
    "    studentsY = np.where(studentsY == 'Graduate', 0, studentsY)\n",
    "    studentsY = np.where(studentsY == 'Dropout', 1, studentsY)\n",
    "    studentsY = studentsY.reshape(-1, 1).astype(np.int64)\n",
    "\n",
    "    distances, indices = fit.kneighbors(studentsX)\n",
    "\n",
    "    y_pred = []\n",
    "    for i in range(n):\n",
    "        nbrs = school_interested.iloc[indices[i]]\n",
    "        in_school = nbrs[(nbrs['Target'] == \"Enrolled\") | (nbrs['Target'] == \"Graduate\")].count()\n",
    "        dropout = nbrs[nbrs['Target'] == \"Dropout\"].count()\n",
    "        predict = 0 if (in_school['Target'] > dropout['Target']) else 1\n",
    "        y_pred.append(predict)\n",
    "\n",
    "    return precision_recall_fscore_support(studentsY, y_pred, labels=[0,1])\n",
    "\n",
    "kvals = range(2, 100)\n",
    "scores = [get_scores(k) for k in kvals]\n",
    "print(scores)\n",
    "\n",
    "scores = [(p[0], r[0], f[0], s[0]) for (p,r,f,s) in scores]\n",
    "scores = list(zip(*scores))\n",
    "\n",
    "plt.plot(kvals, scores[2])\n",
    "plt.xlabel('k')\n",
    "plt.ylabel('f score')"
   ]
  },
  {
   "cell_type": "code",
   "execution_count": null,
   "metadata": {},
   "outputs": [],
   "source": [
    "# Last thing...\n",
    "\n",
    "from sklearn.model_selection import train_test_split\n",
    "\n",
    "k = 9\n",
    "nn = NearestNeighbors(n_neighbors=k, metric='euclidean', algorithm='auto')\n",
    "\n",
    "X = school_interested[[age, grade, tuition, scholarship]].values\n",
    "y = school_interested[['Target']].values\n",
    "\n",
    "# Use random_state if you want the same values each time you run for debugging,\n",
    "# but you should select the split randomly when you're ready to actually train\n",
    "# and test on the data.\n",
    "X_train, X_test, y_train, y_test = train_test_split(X, y, test_size=0.25)#, random_state=42)\n",
    "\n",
    "# Build the model with the training data and test with the test data\n",
    "\n",
    "# You may also want to use this function to compute the f score. The labels parameter indicates\n",
    "# that label 1 is \"positive\" in the sense of \"true positive\", \"false positive\" etc.\n",
    "# (p,r,f,s) = precision_recall_fscore_support(y_test, y_pred, labels=[1])"
   ]
  },
  {
   "cell_type": "code",
   "execution_count": null,
   "metadata": {},
   "outputs": [],
   "source": []
  }
 ],
 "metadata": {
  "kernelspec": {
   "display_name": "Python 3",
   "language": "python",
   "name": "python3"
  },
  "language_info": {
   "codemirror_mode": {
    "name": "ipython",
    "version": 3
   },
   "file_extension": ".py",
   "mimetype": "text/x-python",
   "name": "python",
   "nbconvert_exporter": "python",
   "pygments_lexer": "ipython3",
   "version": "3.11.6"
  }
 },
 "nbformat": 4,
 "nbformat_minor": 2
}
