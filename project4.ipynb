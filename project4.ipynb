{
 "cells": [
  {
   "cell_type": "markdown",
   "metadata": {},
   "source": [
    "# Project 4 K-Nearest Neighbors On Two Data Sets"
   ]
  },
  {
   "cell_type": "markdown",
   "metadata": {},
   "source": [
    "## Part 1: Cleveland Data Set"
   ]
  },
  {
   "cell_type": "code",
   "execution_count": 43,
   "metadata": {},
   "outputs": [],
   "source": [
    "#Common imports for use in the data visualization\n",
    "import math\n",
    "import matplotlib.pyplot as plt\n",
    "import seaborn as sns\n",
    "import numpy as np\n",
    "import pandas as pd\n",
    "import csv\n",
    "import scipy.stats as stats\n",
    "from sklearn.model_selection import train_test_split\n",
    "from sklearn.preprocessing import StandardScaler\n",
    "from sklearn.metrics import accuracy_score,  precision_score, recall_score, f1_score\n",
    "\n",
    "\n",
    "from sklearn.neighbors import NearestNeighbors\n",
    "from sklearn.metrics import precision_recall_fscore_support"
   ]
  },
  {
   "cell_type": "code",
   "execution_count": 44,
   "metadata": {},
   "outputs": [
    {
     "name": "stdout",
     "output_type": "stream",
     "text": [
      "K value: 1\n",
      "Selected attributes: ['age', 'sex', 'cp', 'trestbps', 'chol', 'fbs', 'restecg']\n",
      "Precision: 0.5769230769230769\n",
      "Recall: 0.625\n",
      "F1 score: 0.6\n"
     ]
    }
   ],
   "source": [
    "clevelandDf = pd.read_csv('datasets/cleveland.csv')# SO when we are in class testing our code, put the new file here and itll spit us an f1 score\n",
    "\n",
    "clevelandDf.replace('?', np.nan, inplace=True)\n",
    "\n",
    "clevelandDf['num'] = (clevelandDf['num'] > 0).astype(int)\n",
    "\n",
    "clevelandDf.dropna(inplace=True)\n",
    "\n",
    "selected_features = ['age', 'sex', 'cp', 'trestbps', 'chol', 'fbs', 'restecg', 'thalach', 'exang', 'oldpeak', 'slope', 'ca', 'thal']\n",
    "X = clevelandDf[selected_features]\n",
    "y = clevelandDf['num']\n",
    "\n",
    "scaler = StandardScaler()\n",
    "X_scaled = scaler.fit_transform(X)\n",
    "\n",
    "X_train, X_test, y_train, y_test = train_test_split(X_scaled, y, test_size=0.2, random_state=42)\n",
    "\n",
    "best_k = 1  # test others\n",
    "nn = NearestNeighbors(n_neighbors=best_k, metric='euclidean', algorithm='auto')\n",
    "nn.fit(X_train)\n",
    "\n",
    "distances, indices = nn.kneighbors(X_test)\n",
    "predictions = [np.any(y_train.iloc[indices[i]] > 0) for i in range(len(X_test))]  # Considering any non-zero prediction as heart disease\n",
    "\n",
    "precision = precision_score(y_test, predictions)\n",
    "recall = recall_score(y_test, predictions)\n",
    "f1 = f1_score(y_test, predictions)\n",
    "\n",
    "print(\"K value:\", best_k)\n",
    "print(\"Selected attributes:\", selected_features)\n",
    "print(\"Precision:\", precision)\n",
    "print(\"Recall:\", recall)\n",
    "print(\"F1 score:\", f1)"
   ]
  },
  {
   "cell_type": "markdown",
   "metadata": {},
   "source": [
    "- As I messed around with different K values, I relaized that as I went up, we got worse. This is because of overfitting. As we made the model more complex than it needs to be, we started getting more and more incorrect. But as our K decreased, our scores went up, leading us to go with a lower K."
   ]
  },
  {
   "cell_type": "code",
   "execution_count": 45,
   "metadata": {},
   "outputs": [
    {
     "name": "stdout",
     "output_type": "stream",
     "text": [
      "Predictions for new dataset:\n",
      "[False, True, False, False, False, False, True, True, False, False, True, True, True, True, True, False, False, False, True, False, True, False, False, True, False, False, True, False, False, True, False, True, True, False, True, False, True, True, False]\n"
     ]
    }
   ],
   "source": [
    "new_data = pd.read_csv('datasets/cleveland-test-sample.csv')\n",
    "\n",
    "new_data.replace('?', np.nan, inplace=True)\n",
    "new_data.dropna(inplace=True)\n",
    "X_new = new_data[selected_features]\n",
    "\n",
    "X_new_scaled = scaler.transform(X_new)\n",
    "\n",
    "nn = NearestNeighbors(n_neighbors=best_k, metric='euclidean', algorithm='auto')\n",
    "nn.fit(X_scaled)\n",
    "distances, indices = nn.kneighbors(X_new_scaled)\n",
    "predictions = [np.any(y.iloc[indices[i]] > 0) for i in range(len(X_new_scaled))]  # Consider any non-zero prediction as heart disease\n",
    "\n",
    "print(\"Predictions for new dataset:\")\n",
    "print(predictions)\n"
   ]
  },
  {
   "cell_type": "markdown",
   "metadata": {},
   "source": [
    "## Function to prove that 1 is the best k value. Checking from 1-200..."
   ]
  },
  {
   "cell_type": "code",
   "execution_count": 46,
   "metadata": {},
   "outputs": [
    {
     "name": "stdout",
     "output_type": "stream",
     "text": [
      "[0.6, 0.6440677966101694, 0.7076923076923077, 0.6666666666666666, 0.6575342465753424, 0.64, 0.631578947368421, 0.6233766233766234, 0.6153846153846154, 0.6, 0.5925925925925926, 0.5853658536585366, 0.5783132530120482, 0.5783132530120482, 0.5783132530120482, 0.5783132530120482, 0.5783132530120482, 0.5783132530120482, 0.5783132530120482, 0.5783132530120482, 0.5783132530120482, 0.5714285714285714, 0.5714285714285714, 0.5714285714285714, 0.5714285714285714, 0.5714285714285714, 0.5714285714285714, 0.5714285714285714, 0.5714285714285714, 0.5714285714285714, 0.5714285714285714, 0.5714285714285714, 0.5714285714285714, 0.5714285714285714, 0.5714285714285714, 0.5714285714285714, 0.5714285714285714, 0.5714285714285714, 0.5714285714285714, 0.5714285714285714, 0.5714285714285714, 0.5714285714285714, 0.5714285714285714, 0.5714285714285714, 0.5714285714285714, 0.5714285714285714, 0.5714285714285714, 0.5714285714285714, 0.5714285714285714, 0.5714285714285714, 0.5714285714285714, 0.5714285714285714, 0.5714285714285714, 0.5714285714285714, 0.5714285714285714, 0.5714285714285714, 0.5714285714285714, 0.5714285714285714, 0.5714285714285714, 0.5714285714285714, 0.5714285714285714, 0.5714285714285714, 0.5714285714285714, 0.5714285714285714, 0.5714285714285714, 0.5714285714285714, 0.5714285714285714, 0.5714285714285714, 0.5714285714285714, 0.5714285714285714, 0.5714285714285714, 0.5714285714285714, 0.5714285714285714, 0.5714285714285714, 0.5714285714285714, 0.5714285714285714, 0.5714285714285714, 0.5714285714285714, 0.5714285714285714, 0.5714285714285714, 0.5714285714285714, 0.5714285714285714, 0.5714285714285714, 0.5714285714285714, 0.5714285714285714, 0.5714285714285714, 0.5714285714285714, 0.5714285714285714, 0.5714285714285714, 0.5714285714285714, 0.5714285714285714, 0.5714285714285714, 0.5714285714285714, 0.5714285714285714, 0.5714285714285714, 0.5714285714285714, 0.5714285714285714, 0.5714285714285714, 0.5714285714285714]\n",
      "Best score: 0.7076923076923077\n"
     ]
    },
    {
     "data": {
      "image/png": "[encoded data removed]",
      "text/plain": [
       "<Figure size 640x480 with 1 Axes>"
      ]
     },
     "metadata": {},
     "output_type": "display_data"
    }
   ],
   "source": [
    "def getF1(k):\n",
    "    nn = NearestNeighbors(n_neighbors=k, metric='euclidean', algorithm='auto')\n",
    "    nn.fit(X_train)\n",
    "\n",
    "    distances, indices = nn.kneighbors(X_test)\n",
    "    predictions = [np.any(y_train.iloc[indices[i]] > 0) for i in range(len(X_test))]  # Considering any non-zero prediction as heart disease\n",
    "\n",
    "    f1 = f1_score(y_test, predictions)\n",
    "    return f1\n",
    "\n",
    "kvals = range(1, 100)\n",
    "scores = [getF1(k) for k in kvals]\n",
    "print(scores)\n",
    "plt.plot(kvals, scores)\n",
    "plt.xlabel = 'K'\n",
    "plt.ylabel = 'F1 Score'\n",
    "best_score = max(scores)\n",
    "print(\"Best score:\", best_score)"
   ]
  },
  {
   "cell_type": "markdown",
   "metadata": {},
   "source": [
    "From this we see that there is a stark difference in performance as we get a higher k value. This is interesting for a few reasons\n",
    "- With such a small K value, we get scared that we are being overfitted with the small dataset, however since we set a test data set, and we made sure to keep them seperate, that likely isn't the case\n",
    "- This might be because it will have bad performance on new data, for example from another hospital."
   ]
  },
  {
   "cell_type": "markdown",
   "metadata": {},
   "source": [
    "## Part 2: Student Dropout Data Set"
   ]
  },
  {
   "cell_type": "markdown",
   "metadata": {},
   "source": [
    "## [Student Dropout Dataset (\"data.csv\") here](https://archive.ics.uci.edu/dataset/697/predict+students+dropout+and+academic+success)"
   ]
  },
  {
   "cell_type": "code",
   "execution_count": 47,
   "metadata": {},
   "outputs": [
    {
     "data": {
      "text/html": [
       "<div>\n",
       "<style scoped>\n",
       "    .dataframe tbody tr th:only-of-type {\n",
       "        vertical-align: middle;\n",
       "    }\n",
       "\n",
       "    .dataframe tbody tr th {\n",
       "        vertical-align: top;\n",
       "    }\n",
       "\n",
       "    .dataframe thead th {\n",
       "        text-align: right;\n",
       "    }\n",
       "</style>\n",
       "<table border=\"1\" class=\"dataframe\">\n",
       "  <thead>\n",
       "    <tr style=\"text-align: right;\">\n",
       "      <th></th>\n",
       "      <th>Age at enrollment</th>\n",
       "      <th>Tuition fees up to date</th>\n",
       "      <th>Previous qualification (grade)</th>\n",
       "      <th>Scholarship holder</th>\n",
       "      <th>Target</th>\n",
       "      <th>Age standardized</th>\n",
       "      <th>Tuition standardized</th>\n",
       "      <th>Grades standardized</th>\n",
       "      <th>Scholarship standardized</th>\n",
       "    </tr>\n",
       "  </thead>\n",
       "  <tbody>\n",
       "    <tr>\n",
       "      <th>1093</th>\n",
       "      <td>20</td>\n",
       "      <td>1</td>\n",
       "      <td>130.0</td>\n",
       "      <td>0</td>\n",
       "      <td>Dropout</td>\n",
       "      <td>-0.430314</td>\n",
       "      <td>0.368094</td>\n",
       "      <td>-0.198153</td>\n",
       "      <td>-0.574849</td>\n",
       "    </tr>\n",
       "  </tbody>\n",
       "</table>\n",
       "</div>"
      ],
      "text/plain": [
       "      Age at enrollment  Tuition fees up to date  \\\n",
       "1093                 20                        1   \n",
       "\n",
       "      Previous qualification (grade)  Scholarship holder   Target  \\\n",
       "1093                           130.0                   0  Dropout   \n",
       "\n",
       "      Age standardized  Tuition standardized  Grades standardized  \\\n",
       "1093         -0.430314              0.368094            -0.198153   \n",
       "\n",
       "      Scholarship standardized  \n",
       "1093                 -0.574849  "
      ]
     },
     "metadata": {},
     "output_type": "display_data"
    },
    {
     "data": {
      "text/html": [
       "<div>\n",
       "<style scoped>\n",
       "    .dataframe tbody tr th:only-of-type {\n",
       "        vertical-align: middle;\n",
       "    }\n",
       "\n",
       "    .dataframe tbody tr th {\n",
       "        vertical-align: top;\n",
       "    }\n",
       "\n",
       "    .dataframe thead th {\n",
       "        text-align: right;\n",
       "    }\n",
       "</style>\n",
       "<table border=\"1\" class=\"dataframe\">\n",
       "  <thead>\n",
       "    <tr style=\"text-align: right;\">\n",
       "      <th></th>\n",
       "      <th>Age at enrollment</th>\n",
       "      <th>Tuition fees up to date</th>\n",
       "      <th>Previous qualification (grade)</th>\n",
       "      <th>Scholarship holder</th>\n",
       "      <th>Target</th>\n",
       "      <th>Age standardized</th>\n",
       "      <th>Tuition standardized</th>\n",
       "      <th>Grades standardized</th>\n",
       "      <th>Scholarship standardized</th>\n",
       "    </tr>\n",
       "  </thead>\n",
       "  <tbody>\n",
       "    <tr>\n",
       "      <th>2829</th>\n",
       "      <td>20</td>\n",
       "      <td>1</td>\n",
       "      <td>130.0</td>\n",
       "      <td>0</td>\n",
       "      <td>Dropout</td>\n",
       "      <td>-0.430314</td>\n",
       "      <td>0.368094</td>\n",
       "      <td>-0.198153</td>\n",
       "      <td>-0.574849</td>\n",
       "    </tr>\n",
       "    <tr>\n",
       "      <th>3424</th>\n",
       "      <td>20</td>\n",
       "      <td>1</td>\n",
       "      <td>130.0</td>\n",
       "      <td>0</td>\n",
       "      <td>Dropout</td>\n",
       "      <td>-0.430314</td>\n",
       "      <td>0.368094</td>\n",
       "      <td>-0.198153</td>\n",
       "      <td>-0.574849</td>\n",
       "    </tr>\n",
       "    <tr>\n",
       "      <th>4114</th>\n",
       "      <td>20</td>\n",
       "      <td>1</td>\n",
       "      <td>130.0</td>\n",
       "      <td>0</td>\n",
       "      <td>Graduate</td>\n",
       "      <td>-0.430314</td>\n",
       "      <td>0.368094</td>\n",
       "      <td>-0.198153</td>\n",
       "      <td>-0.574849</td>\n",
       "    </tr>\n",
       "    <tr>\n",
       "      <th>4300</th>\n",
       "      <td>20</td>\n",
       "      <td>1</td>\n",
       "      <td>130.0</td>\n",
       "      <td>0</td>\n",
       "      <td>Graduate</td>\n",
       "      <td>-0.430314</td>\n",
       "      <td>0.368094</td>\n",
       "      <td>-0.198153</td>\n",
       "      <td>-0.574849</td>\n",
       "    </tr>\n",
       "    <tr>\n",
       "      <th>2759</th>\n",
       "      <td>20</td>\n",
       "      <td>1</td>\n",
       "      <td>130.0</td>\n",
       "      <td>0</td>\n",
       "      <td>Enrolled</td>\n",
       "      <td>-0.430314</td>\n",
       "      <td>0.368094</td>\n",
       "      <td>-0.198153</td>\n",
       "      <td>-0.574849</td>\n",
       "    </tr>\n",
       "    <tr>\n",
       "      <th>2538</th>\n",
       "      <td>20</td>\n",
       "      <td>1</td>\n",
       "      <td>130.0</td>\n",
       "      <td>0</td>\n",
       "      <td>Graduate</td>\n",
       "      <td>-0.430314</td>\n",
       "      <td>0.368094</td>\n",
       "      <td>-0.198153</td>\n",
       "      <td>-0.574849</td>\n",
       "    </tr>\n",
       "    <tr>\n",
       "      <th>3974</th>\n",
       "      <td>20</td>\n",
       "      <td>1</td>\n",
       "      <td>130.0</td>\n",
       "      <td>0</td>\n",
       "      <td>Graduate</td>\n",
       "      <td>-0.430314</td>\n",
       "      <td>0.368094</td>\n",
       "      <td>-0.198153</td>\n",
       "      <td>-0.574849</td>\n",
       "    </tr>\n",
       "    <tr>\n",
       "      <th>2702</th>\n",
       "      <td>20</td>\n",
       "      <td>1</td>\n",
       "      <td>130.0</td>\n",
       "      <td>0</td>\n",
       "      <td>Dropout</td>\n",
       "      <td>-0.430314</td>\n",
       "      <td>0.368094</td>\n",
       "      <td>-0.198153</td>\n",
       "      <td>-0.574849</td>\n",
       "    </tr>\n",
       "    <tr>\n",
       "      <th>2686</th>\n",
       "      <td>20</td>\n",
       "      <td>1</td>\n",
       "      <td>130.0</td>\n",
       "      <td>0</td>\n",
       "      <td>Enrolled</td>\n",
       "      <td>-0.430314</td>\n",
       "      <td>0.368094</td>\n",
       "      <td>-0.198153</td>\n",
       "      <td>-0.574849</td>\n",
       "    </tr>\n",
       "  </tbody>\n",
       "</table>\n",
       "</div>"
      ],
      "text/plain": [
       "      Age at enrollment  Tuition fees up to date  \\\n",
       "2829                 20                        1   \n",
       "3424                 20                        1   \n",
       "4114                 20                        1   \n",
       "4300                 20                        1   \n",
       "2759                 20                        1   \n",
       "2538                 20                        1   \n",
       "3974                 20                        1   \n",
       "2702                 20                        1   \n",
       "2686                 20                        1   \n",
       "\n",
       "      Previous qualification (grade)  Scholarship holder    Target  \\\n",
       "2829                           130.0                   0   Dropout   \n",
       "3424                           130.0                   0   Dropout   \n",
       "4114                           130.0                   0  Graduate   \n",
       "4300                           130.0                   0  Graduate   \n",
       "2759                           130.0                   0  Enrolled   \n",
       "2538                           130.0                   0  Graduate   \n",
       "3974                           130.0                   0  Graduate   \n",
       "2702                           130.0                   0   Dropout   \n",
       "2686                           130.0                   0  Enrolled   \n",
       "\n",
       "      Age standardized  Tuition standardized  Grades standardized  \\\n",
       "2829         -0.430314              0.368094            -0.198153   \n",
       "3424         -0.430314              0.368094            -0.198153   \n",
       "4114         -0.430314              0.368094            -0.198153   \n",
       "4300         -0.430314              0.368094            -0.198153   \n",
       "2759         -0.430314              0.368094            -0.198153   \n",
       "2538         -0.430314              0.368094            -0.198153   \n",
       "3974         -0.430314              0.368094            -0.198153   \n",
       "2702         -0.430314              0.368094            -0.198153   \n",
       "2686         -0.430314              0.368094            -0.198153   \n",
       "\n",
       "      Scholarship standardized  \n",
       "2829                 -0.574849  \n",
       "3424                 -0.574849  \n",
       "4114                 -0.574849  \n",
       "4300                 -0.574849  \n",
       "2759                 -0.574849  \n",
       "2538                 -0.574849  \n",
       "3974                 -0.574849  \n",
       "2702                 -0.574849  \n",
       "2686                 -0.574849  "
      ]
     },
     "metadata": {},
     "output_type": "display_data"
    },
    {
     "name": "stdout",
     "output_type": "stream",
     "text": [
      "We predict this student is: isn't a dropout\n"
     ]
    }
   ],
   "source": [
    "school_df = pd.read_csv('datasets/data.csv', sep=';')\n",
    "interested_columns = [\"Age at enrollment\", \"Tuition fees up to date\", \"Previous qualification (grade)\", \"Scholarship holder\", \"Target\"]\n",
    "school_interested = school_df[interested_columns].copy()\n",
    "\n",
    "dropout_count = school_interested['Target'].value_counts().get('Dropout')\n",
    "not_dropout_count = (school_interested['Target'] != 'dropout').sum()\n",
    "\n",
    "school_interested['Age standardized'] = (school_interested['Age at enrollment'] - school_interested['Age at enrollment'].mean()) / (school_interested['Age at enrollment'].std())\n",
    "school_interested['Tuition standardized'] = (school_interested['Tuition fees up to date'] - school_interested['Tuition fees up to date'].mean()) / (school_interested['Tuition fees up to date'].std())\n",
    "school_interested['Grades standardized'] = (school_interested['Previous qualification (grade)'] - school_interested['Previous qualification (grade)'].mean()) / (school_interested['Previous qualification (grade)'].std())\n",
    "school_interested['Scholarship standardized'] = (school_interested['Scholarship holder'] - school_interested['Scholarship holder'].mean()) / (school_interested['Scholarship holder'].std())\n",
    "\n",
    "school_interested = school_interested.sort_values(by='Scholarship holder', ascending=False)\n",
    "\n",
    "# Choosing 9 neighbors as the optimal k. Different values of k tested in the plot below\n",
    "nn = NearestNeighbors(n_neighbors=9, metric='euclidean', algorithm='auto')\n",
    "\n",
    "# Standarize each metric to reduce bias\n",
    "age = 'Age standardized'\n",
    "grade = 'Grades standardized'\n",
    "tuition = 'Tuition standardized'\n",
    "scholarship = 'Scholarship standardized'\n",
    "\n",
    "student = school_interested.sample(1)\n",
    "studentX = student[[age, grade, tuition, scholarship]].values[0]\t\t# moved this block above\n",
    "display(student)\n",
    "\n",
    "# Getting rid of the student of interest as a potential neighbor\n",
    "X = school_interested.drop(student.index)[[age, grade, tuition, scholarship]].values\n",
    "\n",
    "fit = nn.fit(X)\n",
    "distances, indices = fit.kneighbors([studentX])\n",
    "distances, indices\n",
    "\n",
    "nbrs = school_interested.iloc[indices[0]]\n",
    "display(nbrs)\n",
    "\n",
    "in_school = nbrs[(nbrs['Target'] == \"Enrolled\") | (nbrs['Target'] == \"Graduate\")].count()\n",
    "dropout = nbrs[nbrs['Target'] == \"Dropout\"].count()\n",
    "#print('in school: {}\\ndropout: {}'.format(in_school, dropout))\n",
    "\n",
    "prediction = \"isn't a dropout\" if in_school['Target'] > dropout['Target'] else \"is a dropout\"\n",
    "print(\"We predict this student is: \" + prediction)\n"
   ]
  },
  {
   "cell_type": "code",
   "execution_count": 48,
   "metadata": {},
   "outputs": [
    {
     "name": "stdout",
     "output_type": "stream",
     "text": [
      "precision=[0.73170732 1.        ], recall=[1.   0.45], f-score=[0.84507042 0.62068966], support=[30 20]\n"
     ]
    }
   ],
   "source": [
    "# Repeating experiment from above, but running multiple tests\n",
    "n = 50\n",
    "students = school_interested.sample(n)\n",
    "studentsX = students[[age, grade, tuition, scholarship]].values\n",
    "studentsY = students[['Target']].values\n",
    "\n",
    "studentsY = students[['Target']].values.flatten()\n",
    "studentsY = np.where(studentsY == 'Enrolled', 0, studentsY)\n",
    "studentsY = np.where(studentsY == 'Graduate', 0, studentsY)\n",
    "studentsY = np.where(studentsY == 'Dropout', 1, studentsY)\n",
    "studentsY = studentsY.reshape(-1, 1).astype(np.int64)\n",
    "\n",
    "distances, indices = fit.kneighbors(studentsX)\n",
    "\n",
    "y_pred = []\n",
    "for i in range(n):\n",
    "    nbrs = school_interested.iloc[indices[i]]\n",
    "    in_school = nbrs[(nbrs['Target'] == \"Enrolled\") | (nbrs['Target'] == \"Graduate\")].count()\n",
    "    dropout = nbrs[nbrs['Target'] == \"Dropout\"].count()\n",
    "    predict = 0 if (in_school['Target'] > dropout['Target']) else 1\n",
    "    y_pred.append(predict)\n",
    "\n",
    "# F-score tends to be around 0.75\n",
    "(p,r,f,s) = precision_recall_fscore_support(studentsY, y_pred, labels=[0,1])\n",
    "print(f'precision={p}, recall={r}, f-score={f}, support={s}')"
   ]
  },
  {
   "cell_type": "code",
   "execution_count": 49,
   "metadata": {},
   "outputs": [
    {
     "name": "stdout",
     "output_type": "stream",
     "text": [
      "[(array([0.73170732, 0.55555556]), array([0.88235294, 0.3125    ]), array([0.8, 0.4]), array([34, 16])), (array([0.875, 0.8  ]), array([0.94594595, 0.61538462]), array([0.90909091, 0.69565217]), array([37, 13])), (array([0.86486486, 0.84615385]), array([0.94117647, 0.6875    ]), array([0.90140845, 0.75862069]), array([34, 16])), (array([0.70454545, 0.66666667]), array([0.93939394, 0.23529412]), array([0.80519481, 0.34782609]), array([33, 17])), (array([0.66666667, 0.625     ]), array([0.90322581, 0.26315789]), array([0.76712329, 0.37037037]), array([31, 19])), (array([0.81578947, 0.66666667]), array([0.88571429, 0.53333333]), array([0.84931507, 0.59259259]), array([35, 15])), (array([0.73809524, 1.        ]), array([1.        , 0.42105263]), array([0.84931507, 0.59259259]), array([31, 19])), (array([0.84210526, 0.58333333]), array([0.86486486, 0.53846154]), array([0.85333333, 0.56      ]), array([37, 13])), (array([0.825, 0.9  ]), array([0.97058824, 0.5625    ]), array([0.89189189, 0.69230769]), array([34, 16])), (array([0.75      , 0.83333333]), array([0.97058824, 0.3125    ]), array([0.84615385, 0.45454545]), array([34, 16])), (array([0.71052632, 0.75      ]), array([0.9 , 0.45]), array([0.79411765, 0.5625    ]), array([30, 20])), (array([0.85714286, 0.75      ]), array([0.94736842, 0.5       ]), array([0.9, 0.6]), array([38, 12])), (array([0.74358974, 0.81818182]), array([0.93548387, 0.47368421]), array([0.82857143, 0.6       ]), array([31, 19])), (array([0.88888889, 0.6       ]), array([0.95238095, 0.375     ]), array([0.91954023, 0.46153846]), array([42,  8])), (array([0.85, 0.7 ]), array([0.91891892, 0.53846154]), array([0.88311688, 0.60869565]), array([37, 13])), (array([0.83333333, 0.75      ]), array([0.94594595, 0.46153846]), array([0.88607595, 0.57142857]), array([37, 13])), (array([0.73170732, 0.77777778]), array([0.9375    , 0.38888889]), array([0.82191781, 0.51851852]), array([32, 18])), (array([0.75      , 0.71428571]), array([0.87096774, 0.52631579]), array([0.80597015, 0.60606061]), array([31, 19])), (array([0.91891892, 0.53846154]), array([0.85, 0.7 ]), array([0.88311688, 0.60869565]), array([40, 10])), (array([0.71428571, 0.75      ]), array([0.9375    , 0.33333333]), array([0.81081081, 0.46153846]), array([32, 18])), (array([0.76190476, 0.875     ]), array([0.96969697, 0.41176471]), array([0.85333333, 0.56      ]), array([33, 17])), (array([0.80555556, 0.71428571]), array([0.87878788, 0.58823529]), array([0.84057971, 0.64516129]), array([33, 17])), (array([0.8, 0.5]), array([0.86486486, 0.38461538]), array([0.83116883, 0.43478261]), array([37, 13])), (array([0.81395349, 0.71428571]), array([0.94594595, 0.38461538]), array([0.875, 0.5  ]), array([37, 13])), (array([0.84444444, 0.8       ]), array([0.97435897, 0.36363636]), array([0.9047619, 0.5      ]), array([39, 11])), (array([0.75609756, 0.77777778]), array([0.93939394, 0.41176471]), array([0.83783784, 0.53846154]), array([33, 17])), (array([0.85365854, 1.        ]), array([1. , 0.6]), array([0.92105263, 0.75      ]), array([35, 15])), (array([0.77777778, 0.57142857]), array([0.82352941, 0.5       ]), array([0.8       , 0.53333333]), array([34, 16])), (array([0.80487805, 0.88888889]), array([0.97058824, 0.5       ]), array([0.88, 0.64]), array([34, 16])), (array([0.80487805, 0.66666667]), array([0.91666667, 0.42857143]), array([0.85714286, 0.52173913]), array([36, 14])), (array([0.80555556, 0.78571429]), array([0.90625   , 0.61111111]), array([0.85294118, 0.6875    ]), array([32, 18])), (array([0.73684211, 0.91666667]), array([0.96551724, 0.52380952]), array([0.8358209 , 0.66666667]), array([29, 21])), (array([0.79545455, 0.83333333]), array([0.97222222, 0.35714286]), array([0.875, 0.5  ]), array([36, 14])), (array([0.80487805, 0.55555556]), array([0.89189189, 0.38461538]), array([0.84615385, 0.45454545]), array([37, 13])), (array([0.73170732, 0.88888889]), array([0.96774194, 0.42105263]), array([0.83333333, 0.57142857]), array([31, 19])), (array([0.62162162, 0.53846154]), array([0.79310345, 0.33333333]), array([0.6969697 , 0.41176471]), array([29, 21])), (array([0.82926829, 0.88888889]), array([0.97142857, 0.53333333]), array([0.89473684, 0.66666667]), array([35, 15])), (array([0.73333333, 0.6       ]), array([0.94285714, 0.2       ]), array([0.825, 0.3  ]), array([35, 15])), (array([0.75675676, 0.61538462]), array([0.84848485, 0.47058824]), array([0.8       , 0.53333333]), array([33, 17])), (array([0.66666667, 0.875     ]), array([0.96551724, 0.33333333]), array([0.78873239, 0.48275862]), array([29, 21])), (array([0.725, 0.8  ]), array([0.93548387, 0.42105263]), array([0.81690141, 0.55172414]), array([31, 19])), (array([0.73170732, 0.77777778]), array([0.9375    , 0.38888889]), array([0.82191781, 0.51851852]), array([32, 18])), (array([0.73684211, 0.66666667]), array([0.875     , 0.44444444]), array([0.8       , 0.53333333]), array([32, 18])), (array([0.82926829, 0.88888889]), array([0.97142857, 0.53333333]), array([0.89473684, 0.66666667]), array([35, 15])), (array([0.75675676, 0.84615385]), array([0.93333333, 0.55      ]), array([0.8358209 , 0.66666667]), array([30, 20])), (array([0.72093023, 0.85714286]), array([0.96875   , 0.33333333]), array([0.82666667, 0.48      ]), array([32, 18])), (array([0.78378378, 0.76923077]), array([0.90625   , 0.55555556]), array([0.84057971, 0.64516129]), array([32, 18])), (array([0.87179487, 0.63636364]), array([0.89473684, 0.58333333]), array([0.88311688, 0.60869565]), array([38, 12])), (array([0.61904762, 0.5       ]), array([0.86666667, 0.2       ]), array([0.72222222, 0.28571429]), array([30, 20])), (array([0.68421053, 0.66666667]), array([0.86666667, 0.4       ]), array([0.76470588, 0.5       ]), array([30, 20])), (array([0.79545455, 0.66666667]), array([0.94594595, 0.30769231]), array([0.86419753, 0.42105263]), array([37, 13])), (array([0.78947368, 0.75      ]), array([0.90909091, 0.52941176]), array([0.84507042, 0.62068966]), array([33, 17])), (array([0.84210526, 0.83333333]), array([0.94117647, 0.625     ]), array([0.88888889, 0.71428571]), array([34, 16])), (array([0.87804878, 0.55555556]), array([0.9, 0.5]), array([0.88888889, 0.52631579]), array([40, 10])), (array([0.675, 0.8  ]), array([0.93103448, 0.38095238]), array([0.7826087 , 0.51612903]), array([29, 21])), (array([0.88636364, 0.5       ]), array([0.92857143, 0.375     ]), array([0.90697674, 0.42857143]), array([42,  8])), (array([0.75      , 0.78571429]), array([0.9 , 0.55]), array([0.81818182, 0.64705882]), array([30, 20])), (array([0.75675676, 0.69230769]), array([0.875, 0.5  ]), array([0.8115942 , 0.58064516]), array([32, 18])), (array([0.80555556, 0.57142857]), array([0.82857143, 0.53333333]), array([0.81690141, 0.55172414]), array([35, 15])), (array([0.78571429, 0.875     ]), array([0.97058824, 0.4375    ]), array([0.86842105, 0.58333333]), array([34, 16])), (array([0.72222222, 0.71428571]), array([0.86666667, 0.5       ]), array([0.78787879, 0.58823529]), array([30, 20])), (array([0.85365854, 0.77777778]), array([0.94594595, 0.53846154]), array([0.8974359 , 0.63636364]), array([37, 13])), (array([0.82222222, 0.6       ]), array([0.94871795, 0.27272727]), array([0.88095238, 0.375     ]), array([39, 11])), (array([0.87179487, 0.72727273]), array([0.91891892, 0.61538462]), array([0.89473684, 0.66666667]), array([37, 13])), (array([0.77777778, 0.64285714]), array([0.84848485, 0.52941176]), array([0.8115942 , 0.58064516]), array([33, 17])), (array([0.73170732, 0.44444444]), array([0.85714286, 0.26666667]), array([0.78947368, 0.33333333]), array([35, 15])), (array([0.75609756, 0.77777778]), array([0.93939394, 0.41176471]), array([0.83783784, 0.53846154]), array([33, 17])), (array([0.61702128, 0.66666667]), array([0.96666667, 0.1       ]), array([0.75324675, 0.17391304]), array([30, 20])), (array([0.85, 0.8 ]), array([0.94444444, 0.57142857]), array([0.89473684, 0.66666667]), array([36, 14])), (array([0.73170732, 0.77777778]), array([0.9375    , 0.38888889]), array([0.82191781, 0.51851852]), array([32, 18])), (array([0.83333333, 1.        ]), array([1.        , 0.53333333]), array([0.90909091, 0.69565217]), array([35, 15])), (array([0.82926829, 0.66666667]), array([0.91891892, 0.46153846]), array([0.87179487, 0.54545455]), array([37, 13])), (array([0.86666667, 0.6       ]), array([0.95121951, 0.33333333]), array([0.90697674, 0.42857143]), array([41,  9])), (array([0.70454545, 0.5       ]), array([0.91176471, 0.1875    ]), array([0.79487179, 0.27272727]), array([34, 16])), (array([0.84090909, 0.66666667]), array([0.94871795, 0.36363636]), array([0.89156627, 0.47058824]), array([39, 11])), (array([0.84090909, 1.        ]), array([1.        , 0.46153846]), array([0.91358025, 0.63157895]), array([37, 13])), (array([0.72972973, 0.69230769]), array([0.87096774, 0.47368421]), array([0.79411765, 0.5625    ]), array([31, 19])), (array([0.7804878, 1.       ]), array([1. , 0.5]), array([0.87671233, 0.66666667]), array([32, 18])), (array([0.75675676, 0.92307692]), array([0.96551724, 0.57142857]), array([0.84848485, 0.70588235]), array([29, 21])), (array([0.87179487, 0.63636364]), array([0.89473684, 0.58333333]), array([0.88311688, 0.60869565]), array([38, 12])), (array([0.81578947, 0.58333333]), array([0.86111111, 0.5       ]), array([0.83783784, 0.53846154]), array([36, 14])), (array([0.64285714, 0.5       ]), array([0.87096774, 0.21052632]), array([0.73972603, 0.2962963 ]), array([31, 19])), (array([0.7, 0.7]), array([0.90322581, 0.36842105]), array([0.78873239, 0.48275862]), array([31, 19])), (array([0.73684211, 0.83333333]), array([0.93333333, 0.5       ]), array([0.82352941, 0.625     ]), array([30, 20])), (array([0.72972973, 0.46153846]), array([0.79411765, 0.375     ]), array([0.76056338, 0.4137931 ]), array([34, 16])), (array([0.8372093 , 0.57142857]), array([0.92307692, 0.36363636]), array([0.87804878, 0.44444444]), array([39, 11])), (array([0.76923077, 0.81818182]), array([0.9375, 0.5   ]), array([0.84507042, 0.62068966]), array([32, 18])), (array([0.6744186 , 0.85714286]), array([0.96666667, 0.3       ]), array([0.79452055, 0.44444444]), array([30, 20])), (array([0.70588235, 0.6875    ]), array([0.82758621, 0.52380952]), array([0.76190476, 0.59459459]), array([29, 21])), (array([0.68292683, 0.66666667]), array([0.90322581, 0.31578947]), array([0.77777778, 0.42857143]), array([31, 19])), (array([0.80487805, 0.77777778]), array([0.94285714, 0.46666667]), array([0.86842105, 0.58333333]), array([35, 15])), (array([0.73170732, 1.        ]), array([1.  , 0.45]), array([0.84507042, 0.62068966]), array([30, 20])), (array([0.75675676, 0.61538462]), array([0.84848485, 0.47058824]), array([0.8       , 0.53333333]), array([33, 17])), (array([0.75, 0.8 ]), array([0.9375    , 0.44444444]), array([0.83333333, 0.57142857]), array([32, 18])), (array([0.79487179, 0.63636364]), array([0.88571429, 0.46666667]), array([0.83783784, 0.53846154]), array([35, 15])), (array([0.81818182, 0.66666667]), array([0.94736842, 0.33333333]), array([0.87804878, 0.44444444]), array([38, 12])), (array([0.75609756, 0.55555556]), array([0.88571429, 0.33333333]), array([0.81578947, 0.41666667]), array([35, 15])), (array([0.79545455, 0.83333333]), array([0.97222222, 0.35714286]), array([0.875, 0.5  ]), array([36, 14]))]\n"
     ]
    },
    {
     "ename": "TypeError",
     "evalue": "'str' object is not callable",
     "output_type": "error",
     "traceback": [
      "\u001b[0;31m---------------------------------------------------------------------------\u001b[0m",
      "\u001b[0;31mTypeError\u001b[0m                                 Traceback (most recent call last)",
      "Cell \u001b[0;32mIn[49], line 36\u001b[0m\n\u001b[1;32m     33\u001b[0m scores \u001b[38;5;241m=\u001b[39m \u001b[38;5;28mlist\u001b[39m(\u001b[38;5;28mzip\u001b[39m(\u001b[38;5;241m*\u001b[39mscores))\n\u001b[1;32m     35\u001b[0m plt\u001b[38;5;241m.\u001b[39mplot(kvals, scores[\u001b[38;5;241m2\u001b[39m])\n\u001b[0;32m---> 36\u001b[0m \u001b[43mplt\u001b[49m\u001b[38;5;241;43m.\u001b[39;49m\u001b[43mxlabel\u001b[49m\u001b[43m(\u001b[49m\u001b[38;5;124;43m'\u001b[39;49m\u001b[38;5;124;43mk\u001b[39;49m\u001b[38;5;124;43m'\u001b[39;49m\u001b[43m)\u001b[49m\n\u001b[1;32m     37\u001b[0m plt\u001b[38;5;241m.\u001b[39mylabel(\u001b[38;5;124m'\u001b[39m\u001b[38;5;124mf score\u001b[39m\u001b[38;5;124m'\u001b[39m)\n",
      "\u001b[0;31mTypeError\u001b[0m: 'str' object is not callable"
     ]
    },
    {
     "data": {
      "image/png": "[encoded data removed]",
      "text/plain": [
       "<Figure size 640x480 with 1 Axes>"
      ]
     },
     "metadata": {},
     "output_type": "display_data"
    }
   ],
   "source": [
    "# Testing different values of k\n",
    "def get_scores(k):\n",
    "    nn = NearestNeighbors(n_neighbors=k, metric='euclidean', algorithm='auto')\n",
    "\n",
    "    n = 50\n",
    "    students = school_interested.sample(n)\n",
    "    studentsX = students[[age, grade, tuition, scholarship]].values\n",
    "    studentsY = students[['Target']].values\n",
    "\n",
    "    studentsY = students[['Target']].values.flatten()\n",
    "    studentsY = np.where(studentsY == 'Enrolled', 0, studentsY)\n",
    "    studentsY = np.where(studentsY == 'Graduate', 0, studentsY)\n",
    "    studentsY = np.where(studentsY == 'Dropout', 1, studentsY)\n",
    "    studentsY = studentsY.reshape(-1, 1).astype(np.int64)\n",
    "\n",
    "    distances, indices = fit.kneighbors(studentsX)\n",
    "\n",
    "    y_pred = []\n",
    "    for i in range(n):\n",
    "        nbrs = school_interested.iloc[indices[i]]\n",
    "        in_school = nbrs[(nbrs['Target'] == \"Enrolled\") | (nbrs['Target'] == \"Graduate\")].count()\n",
    "        dropout = nbrs[nbrs['Target'] == \"Dropout\"].count()\n",
    "        predict = 0 if (in_school['Target'] > dropout['Target']) else 1\n",
    "        y_pred.append(predict)\n",
    "\n",
    "    return precision_recall_fscore_support(studentsY, y_pred, labels=[0,1])\n",
    "\n",
    "kvals = range(2, 100)\n",
    "scores = [get_scores(k) for k in kvals]\n",
    "print(scores)\n",
    "\n",
    "scores = [(p[0], r[0], f[0], s[0]) for (p,r,f,s) in scores]\n",
    "scores = list(zip(*scores))\n",
    "\n",
    "plt.plot(kvals, scores[2])\n",
    "plt.xlabel('k')\n",
    "plt.ylabel('f score')"
   ]
  },
  {
   "cell_type": "code",
   "execution_count": null,
   "metadata": {},
   "outputs": [],
   "source": [
    "# Last thing...\n",
    "\n",
    "from sklearn.model_selection import train_test_split\n",
    "\n",
    "k = 9\n",
    "nn = NearestNeighbors(n_neighbors=k, metric='euclidean', algorithm='auto')\n",
    "\n",
    "X = school_interested[[age, grade, tuition, scholarship]].values\n",
    "y = school_interested[['Target']].values\n",
    "\n",
    "# Use random_state if you want the same values each time you run for debugging,\n",
    "# but you should select the split randomly when you're ready to actually train\n",
    "# and test on the data.\n",
    "X_train, X_test, y_train, y_test = train_test_split(X, y, test_size=0.25)#, random_state=42)\n",
    "\n",
    "# Build the model with the training data and test with the test data\n",
    "\n",
    "# You may also want to use this function to compute the f score. The labels parameter indicates\n",
    "# that label 1 is \"positive\" in the sense of \"true positive\", \"false positive\" etc.\n",
    "# (p,r,f,s) = precision_recall_fscore_support(y_test, y_pred, labels=[1])"
   ]
  },
  {
   "cell_type": "code",
   "execution_count": null,
   "metadata": {},
   "outputs": [],
   "source": []
  }
 ],
 "metadata": {
  "kernelspec": {
   "display_name": "Python 3",
   "language": "python",
   "name": "python3"
  },
  "language_info": {
   "codemirror_mode": {
    "name": "ipython",
    "version": 3
   },
   "file_extension": ".py",
   "mimetype": "text/x-python",
   "name": "python",
   "nbconvert_exporter": "python",
   "pygments_lexer": "ipython3",
   "version": "3.11.6"
  }
 },
 "nbformat": 4,
 "nbformat_minor": 2
}
